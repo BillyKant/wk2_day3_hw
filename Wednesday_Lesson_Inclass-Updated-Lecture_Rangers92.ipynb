{
 "cells": [
  {
   "cell_type": "markdown",
   "metadata": {},
   "source": [
    "# Dictionaries, Sets, & Importing Modules"
   ]
  },
  {
   "cell_type": "markdown",
   "metadata": {},
   "source": [
    "## Tasks Today:\n",
    "\n",
    "1) Dictionary <br>\n",
    " &nbsp;&nbsp;&nbsp;&nbsp; a) Declaring (key, value) <br>\n",
    " &nbsp;&nbsp;&nbsp;&nbsp; b) Accessing Values <br>\n",
    " &nbsp;&nbsp;&nbsp;&nbsp; ------ Exercise #1 - Print the eye color of each person in a double nested dict <br>\n",
    " &nbsp;&nbsp;&nbsp;&nbsp; c) Adding New Pairs <br>\n",
    " &nbsp;&nbsp;&nbsp;&nbsp; d) Modifying Values <br>\n",
    " &nbsp;&nbsp;&nbsp;&nbsp; e) Removing Key, Value Pairs <br>\n",
    " &nbsp;&nbsp;&nbsp;&nbsp; f) Looping a Dictionary <br>\n",
    " &nbsp;&nbsp;&nbsp;&nbsp; g) Looping Only Keys <br>\n",
    " &nbsp;&nbsp;&nbsp;&nbsp; h) Looping Only Values <br>\n",
    " &nbsp;&nbsp;&nbsp;&nbsp; ------ Exercise #2 - Create a Function that Prints All Key Value Pairs within a print .format()  <br>\n",
    " &nbsp;&nbsp;&nbsp;&nbsp; i) sorted() <br>\n",
    " &nbsp;&nbsp;&nbsp;&nbsp; j) Lists with Dictionaries <br>\n",
    " &nbsp;&nbsp;&nbsp;&nbsp; k) Dictionaries with Lists <br>\n",
    " &nbsp;&nbsp;&nbsp;&nbsp; l) Dictionaries with Dictionaries <br>\n",
    " &nbsp;&nbsp;&nbsp;&nbsp; ------ Exercise #3 - Write a Function that asks someone's name and address, and then stores that into a dictionary, which prints all names and addresses after they're done putting information in...  <br>\n",
    "2) Dictionaries vs. Lists (over time)<br>\n",
    "3) Set <br>\n",
    " &nbsp;&nbsp;&nbsp;&nbsp; a) Declaring <br>\n",
    " &nbsp;&nbsp;&nbsp;&nbsp; b) .add() <br>\n",
    " &nbsp;&nbsp;&nbsp;&nbsp; c) .remove() <br>\n",
    " &nbsp;&nbsp;&nbsp;&nbsp; d) .union() <br>\n",
    " &nbsp;&nbsp;&nbsp;&nbsp; e) .intersection() <br>\n",
    " &nbsp;&nbsp;&nbsp;&nbsp; f) .difference() <br>\n",
    " &nbsp;&nbsp;&nbsp;&nbsp; g) Frozen Set <br>\n",
    "4) Modules <br>\n",
    " &nbsp;&nbsp;&nbsp;&nbsp; a) Importing Entire Modules <br>\n",
    " &nbsp;&nbsp;&nbsp;&nbsp; b) Importing Methods Only <br>\n",
    " &nbsp;&nbsp;&nbsp;&nbsp; c) Using the 'as' Keyword <br>\n",
    " &nbsp;&nbsp;&nbsp;&nbsp; d) Creating a Module <br>\n",
    "5) Exercises <br>\n",
    " &nbsp;&nbsp;&nbsp;&nbsp; a) Build a Shopping Cart <br>\n",
    " &nbsp;&nbsp;&nbsp;&nbsp; b) Create Your Own Module <br>"
   ]
  },
  {
   "cell_type": "markdown",
   "metadata": {},
   "source": [
    "## Dictionary <br>\n",
    "<p>A collection of data with 'key:value' pairs. Dictionaries are ordered as of Python 3.6</p>"
   ]
  },
  {
   "cell_type": "markdown",
   "metadata": {},
   "source": [
    "##### Declaring (key, value)"
   ]
  },
  {
   "cell_type": "code",
   "execution_count": 2,
   "metadata": {},
   "outputs": [],
   "source": [
    "# keys should be unique\n",
    "# can use numbers or strings as keys\n",
    "d_1 = {}\n",
    "# or\n",
    "d_2 = dict()\n",
    "\n",
    "#or \n",
    "\n",
    "d_3 = {\n",
    "    \"Tom\": \"255 Main Street\",\n",
    "    \"Jerry\": \"256 Main Street\",\n",
    "    0: \"This is the value for the 0 key\"\n",
    "}\n"
   ]
  },
  {
   "cell_type": "code",
   "execution_count": 6,
   "metadata": {},
   "outputs": [
    {
     "data": {
      "text/plain": [
       "{}"
      ]
     },
     "execution_count": 6,
     "metadata": {},
     "output_type": "execute_result"
    }
   ],
   "source": [
    "d_2"
   ]
  },
  {
   "cell_type": "markdown",
   "metadata": {},
   "source": [
    "##### Accessing Values"
   ]
  },
  {
   "cell_type": "code",
   "execution_count": 3,
   "metadata": {},
   "outputs": [
    {
     "data": {
      "text/plain": [
       "'255 Main Street'"
      ]
     },
     "execution_count": 3,
     "metadata": {},
     "output_type": "execute_result"
    }
   ],
   "source": [
    "# dict[key]\n",
    "d_3[\"Tom\"]\n",
    "\n"
   ]
  },
  {
   "cell_type": "markdown",
   "metadata": {},
   "source": [
    "## In-Class Exercise #1 - Print a formatted statement from the dictionary below <br>\n",
    "<p>The output should be '2018 Chevrolet Silverado'</p>"
   ]
  },
  {
   "cell_type": "code",
   "execution_count": 7,
   "metadata": {},
   "outputs": [
    {
     "name": "stdout",
     "output_type": "stream",
     "text": [
      "Your car is a 2018 Chevrolet Silverado.\n"
     ]
    }
   ],
   "source": [
    "# use the dict below\n",
    "truck = {\n",
    "    \"year\": 2018,\n",
    "    'make': 'Chevrolet',\n",
    "    'model': 'Silverado'\n",
    "}\n",
    "\n",
    "print(f\"Your car is a {truck['year']} {truck['make']} {truck['model']}.\")"
   ]
  },
  {
   "cell_type": "markdown",
   "metadata": {},
   "source": [
    "##### Adding New Pairs"
   ]
  },
  {
   "cell_type": "code",
   "execution_count": 8,
   "metadata": {},
   "outputs": [
    {
     "data": {
      "text/plain": [
       "{'Tom': '255 Main Street',\n",
       " 'Jerry': '256 Main Street',\n",
       " 0: 'This is the value for the 0 key',\n",
       " 'Spike': '257 Main Street'}"
      ]
     },
     "execution_count": 8,
     "metadata": {},
     "output_type": "execute_result"
    }
   ],
   "source": [
    "# dict[key] = value\n",
    "d_3['Spike'] = '257 Main Street'\n",
    "\n",
    "d_3"
   ]
  },
  {
   "cell_type": "markdown",
   "metadata": {},
   "source": [
    "##### Modifying Values"
   ]
  },
  {
   "cell_type": "code",
   "execution_count": 13,
   "metadata": {},
   "outputs": [
    {
     "data": {
      "text/plain": [
       "{'Tom': '255 Main Street',\n",
       " 'Jerry': '256 Main Street',\n",
       " 'Spike': '257 Main Street Chicago, IL Chicago, IL',\n",
       " 'spike': '257 Main Street Chicago, IL'}"
      ]
     },
     "execution_count": 13,
     "metadata": {},
     "output_type": "execute_result"
    }
   ],
   "source": [
    "# dict[key] = value\n",
    "placeholder = d_3['Spike']\n",
    "d_3['Spike'] = placeholder + \" Chicago, IL\"\n",
    "\n",
    "d_3"
   ]
  },
  {
   "cell_type": "markdown",
   "metadata": {},
   "source": [
    "##### Removing Key, Value Pairs"
   ]
  },
  {
   "cell_type": "code",
   "execution_count": 12,
   "metadata": {},
   "outputs": [
    {
     "ename": "KeyError",
     "evalue": "0",
     "output_type": "error",
     "traceback": [
      "\u001b[1;31m---------------------------------------------------------------------------\u001b[0m",
      "\u001b[1;31mKeyError\u001b[0m                                  Traceback (most recent call last)",
      "Input \u001b[1;32mIn [12]\u001b[0m, in \u001b[0;36m<cell line: 3>\u001b[1;34m()\u001b[0m\n\u001b[0;32m      1\u001b[0m \u001b[38;5;66;03m# del dict[key]\u001b[39;00m\n\u001b[1;32m----> 3\u001b[0m \u001b[38;5;28;01mdel\u001b[39;00m d_3[\u001b[38;5;241m0\u001b[39m]\n\u001b[0;32m      5\u001b[0m d_3\n",
      "\u001b[1;31mKeyError\u001b[0m: 0"
     ]
    }
   ],
   "source": [
    "# del dict[key]\n",
    "\n",
    "del d_3[0]\n",
    "\n",
    "d_3"
   ]
  },
  {
   "cell_type": "markdown",
   "metadata": {},
   "source": [
    "##### Looping a Dictionary"
   ]
  },
  {
   "cell_type": "code",
   "execution_count": 14,
   "metadata": {},
   "outputs": [
    {
     "name": "stdout",
     "output_type": "stream",
     "text": [
      "Name: Tom | Address: 255 Main Street\n",
      "Name: Jerry | Address: 256 Main Street\n",
      "Name: Spike | Address: 257 Main Street Chicago, IL Chicago, IL\n",
      "Name: spike | Address: 257 Main Street Chicago, IL\n"
     ]
    }
   ],
   "source": [
    "# .items()\n",
    "# a, b, c = 1, 2, 3\n",
    "\n",
    "for name, address in d_3.items():\n",
    "    print(f\"Name: {name} | Address: {address}\")"
   ]
  },
  {
   "cell_type": "markdown",
   "metadata": {},
   "source": [
    "##### Looping Only Keys"
   ]
  },
  {
   "cell_type": "code",
   "execution_count": 18,
   "metadata": {},
   "outputs": [
    {
     "name": "stdout",
     "output_type": "stream",
     "text": [
      "Tom\n",
      "Jerry\n",
      "Spike\n",
      "spike\n",
      "dict_keys(['Tom', 'Jerry', 'Spike', 'spike'])\n",
      "['Tom', 'Jerry', 'Spike', 'spike']\n"
     ]
    }
   ],
   "source": [
    "# .keys()\n",
    "for name in d_3:\n",
    "    print(name)\n",
    "    \n",
    "print(d_3.keys())\n",
    "\n",
    "print(list(d_3.keys()))"
   ]
  },
  {
   "cell_type": "markdown",
   "metadata": {},
   "source": [
    "##### Looping Only Values"
   ]
  },
  {
   "cell_type": "code",
   "execution_count": 19,
   "metadata": {},
   "outputs": [
    {
     "name": "stdout",
     "output_type": "stream",
     "text": [
      "['255 Main Street', '256 Main Street', '257 Main Street Chicago, IL Chicago, IL', '257 Main Street Chicago, IL']\n"
     ]
    }
   ],
   "source": [
    "value_list = [val for val in d_3.values()]\n",
    "print(value_list)"
   ]
  },
  {
   "cell_type": "code",
   "execution_count": null,
   "metadata": {
    "scrolled": false
   },
   "outputs": [],
   "source": []
  },
  {
   "cell_type": "code",
   "execution_count": 9,
   "metadata": {
    "scrolled": true
   },
   "outputs": [],
   "source": [
    "# .values()\n"
   ]
  },
  {
   "cell_type": "markdown",
   "metadata": {},
   "source": [
    "## In-Class Exercise #2 - Create a Function that Prints All Key Value Pairs within a print .format() <br>\n",
    "<p><b>Output should be:</b><br>\n",
    "Max has blue eyes<br>\n",
    "Lilly has brown eyes<br>\n",
    "Barney has blue eyes<br>\n",
    "etc.\n",
    "</p>"
   ]
  },
  {
   "cell_type": "code",
   "execution_count": 22,
   "metadata": {},
   "outputs": [
    {
     "name": "stdout",
     "output_type": "stream",
     "text": [
      "Timmy has brown eyes\n",
      "Wanda has pink eyes\n",
      "Vicky has green eyes\n",
      "Cosmo has green eyes\n"
     ]
    }
   ],
   "source": [
    "# use the dict below\n",
    "people = {\n",
    "      \"Timmy\": \"brown\",\n",
    "      \"Wanda\": \"pink\",\n",
    "      \"Vicky\": \"green\",\n",
    "      \"Cosmo\": \"green\"\n",
    "  } \n",
    "    \n",
    "for name, eye_color in people.items():\n",
    "    print(f\"{name} has {eye_color} eyes\")\n",
    "    \n",
    "for name in people:\n",
    "    print(\"{} has {} eyes\".format(name, people[name]))"
   ]
  },
  {
   "cell_type": "markdown",
   "metadata": {},
   "source": [
    "##### sorted()"
   ]
  },
  {
   "cell_type": "code",
   "execution_count": 24,
   "metadata": {},
   "outputs": [
    {
     "name": "stdout",
     "output_type": "stream",
     "text": [
      "['Cosmo', 'Timmy', 'Vicky', 'Wanda']\n",
      "['brown', 'green', 'green', 'pink']\n",
      "[('Cosmo', 'green'), ('Timmy', 'brown'), ('Vicky', 'green'), ('Wanda', 'pink')]\n",
      "{'Cosmo': 'green', 'Timmy': 'brown', 'Vicky': 'green', 'Wanda': 'pink'}\n"
     ]
    }
   ],
   "source": [
    "# sorts variables in order\n",
    "# sorted(dict.values()) or dict.keys() or dict.items()\n",
    "print(sorted(people.keys()))\n",
    "print(sorted(people.values()))\n",
    "print(sorted(people.items()))\n",
    "\n",
    "print(dict(sorted(people.items())))"
   ]
  },
  {
   "cell_type": "markdown",
   "metadata": {},
   "source": [
    "##### List with Dictionaries"
   ]
  },
  {
   "cell_type": "code",
   "execution_count": 28,
   "metadata": {},
   "outputs": [
    {
     "name": "stdout",
     "output_type": "stream",
     "text": [
      "Barb\n",
      "random_guy Tom\n",
      "random_girl Barb\n"
     ]
    }
   ],
   "source": [
    "names = [\"Dave\", \"Susan\", \"Linda\", {\"random_guy\":\"Tom\", \"random_girl\":\"Barb\"}]\n",
    "print(names[3]['random_girl'])\n",
    "\n",
    "for key in names[3]:\n",
    "    print(key, names[3][key])"
   ]
  },
  {
   "cell_type": "markdown",
   "metadata": {},
   "source": [
    "##### Dictionaries with Lists"
   ]
  },
  {
   "cell_type": "code",
   "execution_count": 29,
   "metadata": {},
   "outputs": [
    {
     "name": "stdout",
     "output_type": "stream",
     "text": [
      "33\n",
      "94\n",
      "12\n"
     ]
    }
   ],
   "source": [
    "# be careful when using numbers as keys in dictionaries, don't confuse them with indexes\n",
    "random_data = {\n",
    "    \"list_1\": [33, 94, 12],\n",
    "    \"2\": [\"flashlight\"]\n",
    "}\n",
    "\n",
    "for data in random_data[\"list_1\"]:\n",
    "    print(data)"
   ]
  },
  {
   "cell_type": "markdown",
   "metadata": {},
   "source": [
    "##### Dictionaries with Dictionaries"
   ]
  },
  {
   "cell_type": "code",
   "execution_count": 91,
   "metadata": {},
   "outputs": [
    {
     "name": "stdout",
     "output_type": "stream",
     "text": [
      "{'Latin': ['Tacos', 'Quesadilla', 'Burritos'], 'Noodles': ['Spaghetti', 'Pho', \"Mac'n Cheese\"]}\n",
      "{'Mexican': ['Taco', 'Burrito', 'Empenada'], 'Japanese': ['Nigiri', 'Sashimi', 'Onigiri']}\n",
      "{'Latin': ['Tacos', 'Tortas', 'More Tacos', 'I just really love tacos'], 'Noodles': ['Ramen', 'anythign slurpable']}\n",
      "{'Breakfast': ['Eggs', 'Waffles', 'Bacon'], 'Lunch': ['Instant Noodles', 'Perogies']}\n",
      "{'bbq': ['brisket', 'ribs', 'chicken'], 'mexican': ['street tacos', 'brirra', 'wet burrito']}\n",
      "{'japanese': ['sushi', 'fried rice', 'lo mein'], 'italian': ['Stromboli', 'ravioli', 'tortalini']}\n",
      "{'Latin': ['Tacos', 'Arepa', 'Empenada'], 'Noodles': ['Instant', 'Pho', 'Ramen', 'Maccaroni']}\n",
      "{'Asian Cuisines': ['General Tso', 'Pad Thai', 'Ramen'], 'Italian': ['Pene', 'Alfredo', 'Margharita pizza'], 'Spanish': ['Pernil', 'Tostones', 'Birria']}\n",
      "{'Spanish': [' Tacos', 'RicenBeans', 'Salchipapa'], 'Italian': ['pasta', 'lasagna', 'Alfredo']}\n",
      "{'Japanese': ['Ramen', 'Taiyaki'], 'Thai': ['Massaman Curry'], 'Italian': ['Alfredo Anythin', 'Chicken Parmigiana']}\n",
      "{'Soul': ['Fried Steak', 'Collard Greens', 'Mac & Cheese'], 'Breakfast': ['Pancakes', 'Eggs', 'Bacon']}\n",
      "{'Seafood': ['Salmon', 'Lobster', 'Tuna'], 'Italian': ['Spaghetti', 'Ravioli', 'Lasagna']}\n"
     ]
    }
   ],
   "source": [
    "# to get values, must traverse through keys\n",
    "food_dict = {\n",
    "    \"Billy\": {\n",
    "        \"Latin\": [\"Tacos\", \"Quesadilla\", \"Burritos\"],\n",
    "        \"Noodles\": [\"Spaghetti\", \"Pho\", \"Mac'n Cheese\"]\n",
    "    },\n",
    "    \"Danni\":{\n",
    "        \"Mexican\": [\"Taco\",\"Burrito\",\"Empenada\"],\n",
    "        \"Japanese\":[\"Nigiri\",\"Sashimi\",\"Onigiri\"]\n",
    "    },\n",
    "    \"Ryan\": {\n",
    "        \"Latin\": [\"Tacos\", \"Tortas\", \"More Tacos\", \"I just really love tacos\"],\n",
    "        \"Noodles\": [\"Ramen\", \"anythign slurpable\"]\n",
    "    },\n",
    "    \"Garrett\":{\n",
    "        \"Breakfast\":[\"Eggs\",\"Waffles\",\"Bacon\"],\n",
    "        \"Lunch\":[\"Instant Noodles\",\"Perogies\"]\n",
    "    },\n",
    "    \"marcus\": {\n",
    "        \"bbq\": [\"brisket\",\"ribs\",\"chicken\"],\n",
    "        \"mexican\": [\"street tacos\", \"brirra\", \"wet burrito\"]\n",
    "    },\n",
    "    'Connor':{\n",
    "        'japanese': ['sushi', 'fried rice', 'lo mein'],\n",
    "        'italian': ['Stromboli', 'ravioli', 'tortalini']\n",
    "    },\n",
    "    \"Terrell\":{\n",
    "        \"Latin\": [\"Tacos\",\"Arepa\",'Empenada'],\n",
    "        \"Noodles\": [\"Instant\",\"Pho\",'Ramen','Maccaroni']\n",
    "    },\n",
    "    \"Jordy\": {\n",
    "        \"Asian Cuisines\": [\"General Tso\", \"Pad Thai\", \"Ramen\"],\n",
    "        \"Italian\": [\"Pene\", \"Alfredo\", \"Margharita pizza\"],\n",
    "        \"Spanish\": [\"Pernil\", \"Tostones\", \"Birria\"]\n",
    "    },\n",
    "    \"Joel\":{\n",
    "        \"Spanish\": [\" Tacos\",\"RicenBeans\",'Salchipapa'],\n",
    "        \"Italian\": [\"pasta\",\"lasagna\",\"Alfredo\"]\n",
    "    },\n",
    "    'John':{\n",
    "        'Japanese' : ['Ramen','Taiyaki'],\n",
    "        \"Thai\": ['Massaman Curry'],\n",
    "        \"Italian\": ['Alfredo Anythin', 'Chicken Parmigiana']\n",
    "    },\n",
    "    \"Sam\":{\n",
    "        \"Soul\": [\"Fried Steak\", \"Collard Greens\", \"Mac & Cheese\"],\n",
    "        \"Breakfast\": [\"Pancakes\", \"Eggs\", \"Bacon\"]\n",
    "    },\n",
    "    \"Devin\":{\n",
    "        \"Seafood\": [\"Salmon\",\"Lobster\",\"Tuna\"],\n",
    "        \"Italian\": [\"Spaghetti\", \"Ravioli\", \"Lasagna\"]\n",
    "    },\n",
    "}\n",
    "\n",
    "# for names, kinds in food_dict.items():\n",
    "#     for kind, food in kinds.items():\n",
    "#         for items in food:\n",
    "#             print(items)\n",
    "   \n",
    "for names, kinds in food_dict.items():\n",
    "    print(kinds)"
   ]
  },
  {
   "cell_type": "markdown",
   "metadata": {},
   "source": [
    "## Exercise: Grab everyone's favorite foods and print them out on indvidual lines"
   ]
  },
  {
   "cell_type": "code",
   "execution_count": 36,
   "metadata": {
    "scrolled": true
   },
   "outputs": [
    {
     "ename": "KeyError",
     "evalue": "<class 'type'>",
     "output_type": "error",
     "traceback": [
      "\u001b[1;31m---------------------------------------------------------------------------\u001b[0m",
      "\u001b[1;31mKeyError\u001b[0m                                  Traceback (most recent call last)",
      "Input \u001b[1;32mIn [36]\u001b[0m, in \u001b[0;36m<cell line: 4>\u001b[1;34m()\u001b[0m\n\u001b[0;32m      1\u001b[0m \u001b[38;5;66;03m# Bonus:\u001b[39;00m\n\u001b[0;32m      2\u001b[0m \u001b[38;5;66;03m# grab our favorite foods and if there is a duplicate \u001b[39;00m\n\u001b[1;32m----> 4\u001b[0m \u001b[38;5;28;01mfor\u001b[39;00m \u001b[38;5;28mtype\u001b[39m \u001b[38;5;129;01min\u001b[39;00m \u001b[43mfood_dict\u001b[49m\u001b[43m[\u001b[49m\u001b[38;5;28;43mtype\u001b[39;49m\u001b[43m]\u001b[49m:\n\u001b[0;32m      5\u001b[0m     \u001b[38;5;28;01mfor\u001b[39;00m value \u001b[38;5;129;01min\u001b[39;00m foot_dict[\u001b[38;5;28mtype\u001b[39m]\u001b[38;5;241m.\u001b[39mvalues():\n\u001b[0;32m      6\u001b[0m         \u001b[38;5;28mprint\u001b[39m(value)\n",
      "\u001b[1;31mKeyError\u001b[0m: <class 'type'>"
     ]
    }
   ],
   "source": [
    "# Bonus:\n",
    "# grab our favorite foods and if there is a duplicate \n",
    "\n",
    "for type in food_dict[type]:\n",
    "    for value in foot_dict[type].values():\n",
    "        print(value)\n",
    "    "
   ]
  },
  {
   "cell_type": "markdown",
   "metadata": {},
   "source": [
    "## Dictionaries vs. Lists (over time) Example of RUNTIME\n",
    "### When inputting values in a Dictionary vs List"
   ]
  },
  {
   "cell_type": "code",
   "execution_count": 47,
   "metadata": {},
   "outputs": [],
   "source": [
    "import time\n",
    "\n",
    "#Generate a dictionary\n",
    "d = {}\n",
    "\n",
    "for i in range(10000000):\n",
    "    d[i] = \"value \"+ str(i)\n",
    "    \n",
    "d2 =  {i:f\"value {i}\" for i in range(10000000)}\n",
    "    \n",
    "# generate a list\n",
    "big_list = [x for x in range(10000000)]"
   ]
  },
  {
   "cell_type": "code",
   "execution_count": 49,
   "metadata": {},
   "outputs": [
    {
     "name": "stdout",
     "output_type": "stream",
     "text": [
      "value 9999999\n",
      "Elapsed time for dictionary: 0.0010001659393310547\n",
      "9999999\n",
      "Elapsed time for list: 0.6263213157653809\n"
     ]
    }
   ],
   "source": [
    "# Track time for dictinary\n",
    "\n",
    "start_time = time.time()\n",
    "print(d[9999999])\n",
    "\n",
    "end_time = time.time()\n",
    "elapsed_time = end_time - start_time\n",
    "print(f\"Elapsed time for dictionary: {elapsed_time}\")\n",
    "\n",
    "start_time = time.time()\n",
    "for i in range(len(big_list)):\n",
    "    if i == 9999999:\n",
    "        print(i)\n",
    "        break\n",
    "\n",
    "end_time = time.time()\n",
    "elapsed_time = end_time - start_time\n",
    "print(f\"Elapsed time for list: {elapsed_time}\")"
   ]
  },
  {
   "cell_type": "markdown",
   "metadata": {},
   "source": [
    "## Exercise #3 - Write a Function that asks someone's name and address, and then stores that into a dictionary, and continues to do so until they choose to 'quit'. Once they quit, the program should print all names and addresses. <br>\n",
    "<p>\n",
    "<b>Proper steps:</b><br>\n",
    "step 1: write a function that takes in information and stores it in a dictionary<br>\n",
    "step 2: define an empty dictionary to work with<br>\n",
    "step 3: create our loop, which asks the user for information until they quit<br>\n",
    "step 4: ask for the information, and store it into variables<br>\n",
    "step 5: check if the user types quit<br>\n",
    "step 5a: print out all information<br>\n",
    "step 5b: break out of the loop<br>\n",
    "step 6: if they didn't quit, add the information to the dictionary<br>\n",
    "step 7: invoke the function by calling it\n",
    "</p>"
   ]
  },
  {
   "cell_type": "code",
   "execution_count": 22,
   "metadata": {},
   "outputs": [
    {
     "name": "stdout",
     "output_type": "stream",
     "text": [
      "Enter name: billy\n",
      "Enter address: 123 side street\n",
      "Enter name: sarah \n",
      "Enter address: 124 side street\n",
      "Enter name: quit\n",
      "billy 123 side street\n",
      "sarah  124 side street\n"
     ]
    }
   ],
   "source": [
    "from IPython.display import clear_output\n",
    "\n",
    "# # Step 1\n",
    "# def storeInfo():\n",
    "#     #step2\n",
    "#     name_and_address = {}\n",
    "#     #step3\n",
    "#     print(\"Please enter your name and address when prompted (type 'quit' to stop program): \")\n",
    "#     while name or address != 'quit':\n",
    "#         #step 4\n",
    "#         name = input(\"Name: \")\n",
    "#         address = input(\"Address: \")\n",
    "#         #step 5\n",
    "#         #step5a\n",
    "#         print(f\"Thank you, {name}, you live at {address}.\")\n",
    "#     if name or address != 'quit':\n",
    "#         name_and_add[name] = address\n",
    " \n",
    "# storeInfo()\n",
    "\n",
    "# Step 1\n",
    "def storeInfo():\n",
    "    #Step 2\n",
    "    d = {}\n",
    "    #Step 3\n",
    "    while True:\n",
    "        #Step 4\n",
    "        name = input(\"Enter name: \")\n",
    "        #Step 5\n",
    "        if name.lower() == \"quit\":\n",
    "            #Step 5a\n",
    "            for x,y in d.items():\n",
    "                print(x,y)\n",
    "            #Step 5b\n",
    "            break;\n",
    "        else: \n",
    "            #Step 4\n",
    "            address = input(\"Enter address: \")\n",
    "            #Step 5\n",
    "            if address.lower() == \"quit\":\n",
    "                #Step 5a\n",
    "                for x,y in d.items():\n",
    "                    print(x,y)\n",
    "                #Step 5b\n",
    "                break;\n",
    "            #step 6\n",
    "            d[name] = address\n",
    "            \n",
    "#step 7        \n",
    "storeInfo()\n",
    "\n",
    "# def storeInfo():\n",
    "#     user_dict = {}\n",
    "#     while True:\n",
    "#         print(\"Type 'quit' to exit.\")\n",
    "#         user_name = input(\"Enter your name \")\n",
    "#         if user_name == \"quit\":\n",
    "#             break\n",
    "#         user_address = input(\"Enter your address \")\n",
    "#         if user_address == \"quit\":\n",
    "#             break\n",
    "#         user_dict[user_name] = user_address\n",
    "#     print(user_dict)\n",
    "\n",
    "# storeInfo()\n"
   ]
  },
  {
   "cell_type": "markdown",
   "metadata": {},
   "source": [
    "## Set <br>\n",
    "<p>A Set is an unordered collection data type that is iterable (loop), mutable, and has no duplicate elements.<br>Major advantage is that it is highly optimized in checking if something is in the set, as opposed to checking if something is in a list.</p>"
   ]
  },
  {
   "cell_type": "markdown",
   "metadata": {},
   "source": [
    "##### Declaring"
   ]
  },
  {
   "cell_type": "code",
   "execution_count": 66,
   "metadata": {},
   "outputs": [
    {
     "name": "stdout",
     "output_type": "stream",
     "text": [
      "{8, 9, 3, 4}\n",
      "[1, 2, 3, 4, 1, 2, 3, 4, 5, 1, 5]\n",
      "{1, 2, 3, 4, 5}\n",
      "['__and__', '__class__', '__class_getitem__', '__contains__', '__delattr__', '__dir__', '__doc__', '__eq__', '__format__', '__ge__', '__getattribute__', '__gt__', '__hash__', '__iand__', '__init__', '__init_subclass__', '__ior__', '__isub__', '__iter__', '__ixor__', '__le__', '__len__', '__lt__', '__ne__', '__new__', '__or__', '__rand__', '__reduce__', '__reduce_ex__', '__repr__', '__ror__', '__rsub__', '__rxor__', '__setattr__', '__sizeof__', '__str__', '__sub__', '__subclasshook__', '__xor__', 'add', 'clear', 'copy', 'difference', 'difference_update', 'discard', 'intersection', 'intersection_update', 'isdisjoint', 'issubset', 'issuperset', 'pop', 'remove', 'symmetric_difference', 'symmetric_difference_update', 'union', 'update']\n"
     ]
    }
   ],
   "source": [
    "# set() or {}\n",
    "# no order {3, 2, 1} outputs as {1, 2, 3}\n",
    "nums = {4,8,9,3,4}\n",
    "print(nums)\n",
    "\n",
    "nums_list = [1,2,3,4,1,2,3,4,5,1,5]\n",
    "\n",
    "nums_set = set(nums_list)\n",
    "\n",
    "print(nums_list)\n",
    "print(nums_set)\n",
    "print(dir(nums))"
   ]
  },
  {
   "cell_type": "markdown",
   "metadata": {},
   "source": [
    "##### .add()"
   ]
  },
  {
   "cell_type": "code",
   "execution_count": 67,
   "metadata": {},
   "outputs": [
    {
     "name": "stdout",
     "output_type": "stream",
     "text": [
      "{3, 4, 8, 9, 88}\n"
     ]
    }
   ],
   "source": [
    "# set.add()\n",
    "nums.add(88)\n",
    "print(nums)"
   ]
  },
  {
   "cell_type": "markdown",
   "metadata": {},
   "source": [
    "##### .remove()"
   ]
  },
  {
   "cell_type": "code",
   "execution_count": 68,
   "metadata": {},
   "outputs": [
    {
     "name": "stdout",
     "output_type": "stream",
     "text": [
      "{3, 4, 8, 9}\n"
     ]
    }
   ],
   "source": [
    "# removes by value\n",
    "# set.remove()\n",
    "# nums.remove(56)\n",
    "nums.remove(88)\n",
    "print(nums)\n"
   ]
  },
  {
   "cell_type": "markdown",
   "metadata": {},
   "source": [
    "##### .union() "
   ]
  },
  {
   "cell_type": "code",
   "execution_count": 71,
   "metadata": {},
   "outputs": [
    {
     "name": "stdout",
     "output_type": "stream",
     "text": [
      "{1, 2, 3, 4, 5, 6}\n",
      "{1, 2, 3, 4, 5, 6}\n"
     ]
    }
   ],
   "source": [
    "# Returns a union of two sets, can also use '|' or set.union(set)\n",
    "# joins all numbers, gets rid of duplicates\n",
    "\n",
    "s1 = {1,2,3,4}\n",
    "s2 = {3,4,5,6}\n",
    "s3 = s1.union(s2)\n",
    "print(s3)\n",
    "\n",
    "#or\n",
    "s4 = s1 | s2\n",
    "print(s4)"
   ]
  },
  {
   "cell_type": "markdown",
   "metadata": {},
   "source": [
    "##### .intersection()"
   ]
  },
  {
   "cell_type": "code",
   "execution_count": 72,
   "metadata": {},
   "outputs": [
    {
     "name": "stdout",
     "output_type": "stream",
     "text": [
      "{3, 4}\n",
      "{3, 4}\n"
     ]
    }
   ],
   "source": [
    "# Returns an intersection of two sets, can also use '&'\n",
    "# only takes similar elements from both sets\n",
    "s5 = s1.intersection(s2)\n",
    "\n",
    "#or\n",
    "\n",
    "s6 = s2 & s1\n",
    "\n",
    "print(s5)\n",
    "print(s6)"
   ]
  },
  {
   "cell_type": "markdown",
   "metadata": {},
   "source": [
    "##### .difference()"
   ]
  },
  {
   "cell_type": "code",
   "execution_count": 74,
   "metadata": {},
   "outputs": [
    {
     "name": "stdout",
     "output_type": "stream",
     "text": [
      "{1, 2}\n",
      "{5, 6}\n"
     ]
    }
   ],
   "source": [
    "# Returns a set containing all the elements of invoking set that are not in the second set, can also use '-'\n",
    "# only takes values from the first set that are not in the second set\n",
    "# order matters\n",
    "\n",
    "s7 = s1 - s2\n",
    "\n",
    "#or\n",
    "\n",
    "s8 = s2.difference(s1)\n",
    "\n",
    "print(s7)\n",
    "print(s8)"
   ]
  },
  {
   "cell_type": "markdown",
   "metadata": {},
   "source": [
    "##### .clear()"
   ]
  },
  {
   "cell_type": "code",
   "execution_count": 75,
   "metadata": {},
   "outputs": [
    {
     "name": "stdout",
     "output_type": "stream",
     "text": [
      "set()\n"
     ]
    }
   ],
   "source": [
    "# Empties the whole set\n",
    "# set.clear()\n",
    "s8.clear()\n",
    "print(s8)"
   ]
  },
  {
   "cell_type": "code",
   "execution_count": null,
   "metadata": {},
   "outputs": [],
   "source": []
  },
  {
   "cell_type": "markdown",
   "metadata": {},
   "source": [
    "##### Frozenset <br>\n",
    "<p>Frozen sets are immutable objects that only support methods and operators that produce a result without affecting the frozen set or sets to which they are applied.</p><br><b>Unique & Immutable</b>"
   ]
  },
  {
   "cell_type": "code",
   "execution_count": 79,
   "metadata": {},
   "outputs": [
    {
     "name": "stdout",
     "output_type": "stream",
     "text": [
      "frozenset({1, 2, 3, 4, 5, 6})\n",
      "['__and__', '__class__', '__class_getitem__', '__contains__', '__delattr__', '__dir__', '__doc__', '__eq__', '__format__', '__ge__', '__getattribute__', '__gt__', '__hash__', '__init__', '__init_subclass__', '__iter__', '__le__', '__len__', '__lt__', '__ne__', '__new__', '__or__', '__rand__', '__reduce__', '__reduce_ex__', '__repr__', '__ror__', '__rsub__', '__rxor__', '__setattr__', '__sizeof__', '__str__', '__sub__', '__subclasshook__', '__xor__', 'copy', 'difference', 'intersection', 'isdisjoint', 'issubset', 'issuperset', 'symmetric_difference', 'union']\n"
     ]
    }
   ],
   "source": [
    "# frozenset([])\n",
    "\n",
    "icy_set = frozenset(s3)\n",
    "print(icy_set)\n",
    "\n",
    "#icy_set.add(7)\n",
    "print(dir(icy_set))"
   ]
  },
  {
   "cell_type": "markdown",
   "metadata": {},
   "source": [
    "##### Importing Entire Modules"
   ]
  },
  {
   "cell_type": "code",
   "execution_count": 84,
   "metadata": {},
   "outputs": [
    {
     "name": "stdout",
     "output_type": "stream",
     "text": [
      "3.141592653589793\n",
      "4\n"
     ]
    }
   ],
   "source": [
    "# import \n",
    "# or \n",
    "# from 'xxx' import *\n",
    "\n",
    "import math\n",
    "\n",
    "print(math.pi)\n",
    "print(math.ceil(math.pi))\n",
    "\n",
    "\n"
   ]
  },
  {
   "cell_type": "markdown",
   "metadata": {},
   "source": [
    "##### Importing Methods Only"
   ]
  },
  {
   "cell_type": "code",
   "execution_count": 85,
   "metadata": {},
   "outputs": [
    {
     "name": "stdout",
     "output_type": "stream",
     "text": [
      "3\n"
     ]
    }
   ],
   "source": [
    "# from 'xxx' import 'xxx'\n",
    "# from math import floor\n",
    "from math import floor, pi\n",
    "\n",
    "print(floor(pi))\n"
   ]
  },
  {
   "cell_type": "markdown",
   "metadata": {},
   "source": [
    "##### Using the 'as' Keyword"
   ]
  },
  {
   "cell_type": "code",
   "execution_count": 86,
   "metadata": {},
   "outputs": [
    {
     "name": "stdout",
     "output_type": "stream",
     "text": [
      "3\n"
     ]
    }
   ],
   "source": [
    "# from 'xxx' import 'xxx' as 'xxx' or import 'xxx' as 'xxx'\n",
    "# from math import floor as f\n",
    "from math import floor as f, pi as p\n",
    "\n",
    "print(f(p))\n"
   ]
  },
  {
   "cell_type": "markdown",
   "metadata": {},
   "source": [
    "##### Creating a Module"
   ]
  },
  {
   "cell_type": "code",
   "execution_count": 89,
   "metadata": {},
   "outputs": [
    {
     "name": "stdout",
     "output_type": "stream",
     "text": [
      "Hello Mr/Ms Billy...we've been waiting for you!\n"
     ]
    }
   ],
   "source": [
    "from files.module import printName as pn\n",
    "#from \"/files/module\" import printName as pp\n",
    "pn('Billy')\n"
   ]
  },
  {
   "cell_type": "markdown",
   "metadata": {},
   "source": [
    "# Exercises"
   ]
  },
  {
   "cell_type": "markdown",
   "metadata": {},
   "source": [
    "### 1) Build a Shopping Cart <br>\n",
    "<p><b>You can use either lists or dictionaries. The program should have the following capabilities:</b><br><br>\n",
    "1) Takes in input <br>\n",
    "2) Stores user input into a dictionary or list <br>\n",
    "3) The User can add or delete items <br>\n",
    "4) The User can see current shopping list <br>\n",
    "5) The program Loops until user 'quits' <br>\n",
    "6) Upon quiting the program, print out all items in the user's list <br>\n",
    "</p>"
   ]
  },
  {
   "cell_type": "code",
   "execution_count": 23,
   "metadata": {},
   "outputs": [
    {
     "name": "stdout",
     "output_type": "stream",
     "text": [
      "Object `Quit` not found.\n",
      "Do you want to: Show/Add/Delete or Quit?add\n",
      "What item would you like?grapes\n",
      "How many would you like?2\n",
      "Do you want to: Show/Add/Delete or Quit?add\n",
      "What item would you like?pumpkin\n",
      "How many would you like?1\n",
      "Do you want to: Show/Add/Delete or Quit?show\n",
      "2 grapes\n",
      "1 pumpkin\n",
      "Do you want to: Show/Add/Delete or Quit?quit\n",
      "2 grapes\n",
      "1 pumpkin\n"
     ]
    }
   ],
   "source": [
    "from IPython.display import clear_output\n",
    "\n",
    "Ask the user four bits of input: Do you want to : Show/Add/Delete or Quit?\n",
    "def grocery_list():\n",
    "    complete_list = {}\n",
    "    while True:\n",
    "        response = input(\"Do you want to: Show/Add/Delete or Quit?\")\n",
    "        if response.lower().strip() == 'add':\n",
    "            new_item = input(\"What item would you like?\")\n",
    "            item_qty = input(\"How many would you like?\")\n",
    "            complete_list[new_item.lower().strip()]= item_qty.strip()\n",
    "        elif response.lower().strip() == 'delete':\n",
    "            to_delete =input(\"What would you like to remove?\")\n",
    "            del complete_list[to_delete.lower().strip()]\n",
    "        elif response.lower().strip() == 'show':\n",
    "            for item, qty in complete_list.items():\n",
    "                print(f\"{qty} {item}\")\n",
    "        elif response.lower().strip() == 'quit':\n",
    "            break\n",
    "    for item, qty in complete_list.items():\n",
    "        print(f\"{qty} {item}\")\n",
    "\n",
    "grocery_list()\n",
    "# def shop_list():\n",
    "#     the_list = []\n",
    "#     while True:\n",
    "#         action = input(\"Do you want to: Show/Add/Delete or Quit?: \")\n",
    "#         if action.strip().lower() == 'show':\n",
    "#             for item in the_list:\n",
    "#                 print(item)\n",
    "#         elif action.lower().strip() == 'add':\n",
    "#             add_item = input(\"What item would you like?: \")\n",
    "#             the_list.append(add_item)\n",
    "#         elif action.lower() == 'delete':\n",
    "#             del_item = input(\"what item would you like to remove?: \")\n",
    "#             the_list.remove(del_item)\n",
    "#         elif action.lower() == 'quit':\n",
    "#             break\n",
    "#     print(the_list)\n",
    "    \n",
    "# shop_list()\n",
    "        \n",
    "        \n"
   ]
  },
  {
   "cell_type": "markdown",
   "metadata": {},
   "source": [
    "### 2) Create a Module in VS Code and Import It into jupyter notebook <br>\n",
    "<p><b>Module should have the following capabilities:</b><br><br>\n",
    "1) Has a function to calculate the square footage of a house <br>\n",
    "    <b>Reminder of Formula: Length X Width == Area<br>\n",
    "        <hr>\n",
    "2) Has a function to calculate the circumference of a circle <br><br>\n",
    "<b>Program in Jupyter Notebook should take in user input and use imported functions to calculate a circle's circumference or a houses square footage</b>\n",
    "</p>"
   ]
  },
  {
   "cell_type": "code",
   "execution_count": 6,
   "metadata": {},
   "outputs": [
    {
     "name": "stdout",
     "output_type": "stream",
     "text": [
      "20\n",
      "31.41592653589793\n"
     ]
    }
   ],
   "source": [
    "import billymod1\n",
    "\n",
    "print(billymod1.sq_ft(4, 5))\n",
    "print(billymod1.circ_circum(5))"
   ]
  },
  {
   "cell_type": "code",
   "execution_count": null,
   "metadata": {},
   "outputs": [],
   "source": []
  }
 ],
 "metadata": {
  "kernelspec": {
   "display_name": "Python 3 (ipykernel)",
   "language": "python",
   "name": "python3"
  },
  "language_info": {
   "codemirror_mode": {
    "name": "ipython",
    "version": 3
   },
   "file_extension": ".py",
   "mimetype": "text/x-python",
   "name": "python",
   "nbconvert_exporter": "python",
   "pygments_lexer": "ipython3",
   "version": "3.9.13"
  }
 },
 "nbformat": 4,
 "nbformat_minor": 2
}
